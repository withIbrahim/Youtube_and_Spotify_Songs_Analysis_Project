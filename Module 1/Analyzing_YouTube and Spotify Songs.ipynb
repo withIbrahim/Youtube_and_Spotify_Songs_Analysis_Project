{
 "cells": [
  {
   "cell_type": "markdown",
   "id": "773b0e85",
   "metadata": {},
   "source": [
    "# Module 1: Data Pre-processing"
   ]
  },
  {
   "cell_type": "markdown",
   "id": "d1f9003d",
   "metadata": {},
   "source": [
    "Data Pre-processing is one of the important steps in data analytics because data that is not processed can lead to different unwanted results when the data will be used for further applications. This task includes sub-tasks such as handling null values, deletion or transformation of irrelevant values, datatype transformation, removing duplicates, etc\n"
   ]
  },
  {
   "cell_type": "markdown",
   "id": "bc61ec8f",
   "metadata": {},
   "source": [
    "● At first, we have to import the necessary libraries, then import the data from our local machine."
   ]
  },
  {
   "cell_type": "code",
   "execution_count": 1,
   "id": "232499c5",
   "metadata": {},
   "outputs": [],
   "source": [
    "import pandas as pd"
   ]
  },
  {
   "cell_type": "code",
   "execution_count": 2,
   "id": "3c6f5c51",
   "metadata": {},
   "outputs": [
    {
     "data": {
      "text/html": [
       "<div>\n",
       "<style scoped>\n",
       "    .dataframe tbody tr th:only-of-type {\n",
       "        vertical-align: middle;\n",
       "    }\n",
       "\n",
       "    .dataframe tbody tr th {\n",
       "        vertical-align: top;\n",
       "    }\n",
       "\n",
       "    .dataframe thead th {\n",
       "        text-align: right;\n",
       "    }\n",
       "</style>\n",
       "<table border=\"1\" class=\"dataframe\">\n",
       "  <thead>\n",
       "    <tr style=\"text-align: right;\">\n",
       "      <th></th>\n",
       "      <th>Artist</th>\n",
       "      <th>Url_spotify</th>\n",
       "      <th>Track</th>\n",
       "      <th>Album</th>\n",
       "      <th>Album_type</th>\n",
       "      <th>Uri</th>\n",
       "      <th>Danceability</th>\n",
       "      <th>Energy</th>\n",
       "      <th>Key</th>\n",
       "      <th>Loudness</th>\n",
       "      <th>...</th>\n",
       "      <th>Url_youtube</th>\n",
       "      <th>Title</th>\n",
       "      <th>Channel</th>\n",
       "      <th>Views</th>\n",
       "      <th>Likes</th>\n",
       "      <th>Comments</th>\n",
       "      <th>Description</th>\n",
       "      <th>Licensed</th>\n",
       "      <th>official_video</th>\n",
       "      <th>Stream</th>\n",
       "    </tr>\n",
       "  </thead>\n",
       "  <tbody>\n",
       "    <tr>\n",
       "      <th>0</th>\n",
       "      <td>Gorillaz</td>\n",
       "      <td>https://open.spotify.com/artist/3AA28KZvwAUcZu...</td>\n",
       "      <td>Feel Good Inc.</td>\n",
       "      <td>Demon Days</td>\n",
       "      <td>album</td>\n",
       "      <td>spotify:track:0d28khcov6AiegSCpG5TuT</td>\n",
       "      <td>0.818</td>\n",
       "      <td>0.705</td>\n",
       "      <td>6.0</td>\n",
       "      <td>-6.679</td>\n",
       "      <td>...</td>\n",
       "      <td>https://www.youtube.com/watch?v=HyHNuVaZJ-k</td>\n",
       "      <td>Gorillaz - Feel Good Inc. (Official Video)</td>\n",
       "      <td>Gorillaz</td>\n",
       "      <td>693555221.0</td>\n",
       "      <td>6220896.0</td>\n",
       "      <td>169907.0</td>\n",
       "      <td>Official HD Video for Gorillaz' fantastic trac...</td>\n",
       "      <td>True</td>\n",
       "      <td>True</td>\n",
       "      <td>1.040235e+09</td>\n",
       "    </tr>\n",
       "    <tr>\n",
       "      <th>1</th>\n",
       "      <td>Gorillaz</td>\n",
       "      <td>https://open.spotify.com/artist/3AA28KZvwAUcZu...</td>\n",
       "      <td>Rhinestone Eyes</td>\n",
       "      <td>Plastic Beach</td>\n",
       "      <td>album</td>\n",
       "      <td>spotify:track:1foMv2HQwfQ2vntFf9HFeG</td>\n",
       "      <td>0.676</td>\n",
       "      <td>0.703</td>\n",
       "      <td>8.0</td>\n",
       "      <td>-5.815</td>\n",
       "      <td>...</td>\n",
       "      <td>https://www.youtube.com/watch?v=yYDmaexVHic</td>\n",
       "      <td>Gorillaz - Rhinestone Eyes [Storyboard Film] (...</td>\n",
       "      <td>Gorillaz</td>\n",
       "      <td>72011645.0</td>\n",
       "      <td>1079128.0</td>\n",
       "      <td>31003.0</td>\n",
       "      <td>The official video for Gorillaz - Rhinestone E...</td>\n",
       "      <td>True</td>\n",
       "      <td>True</td>\n",
       "      <td>3.100837e+08</td>\n",
       "    </tr>\n",
       "    <tr>\n",
       "      <th>2</th>\n",
       "      <td>Gorillaz</td>\n",
       "      <td>https://open.spotify.com/artist/3AA28KZvwAUcZu...</td>\n",
       "      <td>New Gold (feat. Tame Impala and Bootie Brown)</td>\n",
       "      <td>New Gold (feat. Tame Impala and Bootie Brown)</td>\n",
       "      <td>single</td>\n",
       "      <td>spotify:track:64dLd6rVqDLtkXFYrEUHIU</td>\n",
       "      <td>0.695</td>\n",
       "      <td>0.923</td>\n",
       "      <td>1.0</td>\n",
       "      <td>-3.930</td>\n",
       "      <td>...</td>\n",
       "      <td>https://www.youtube.com/watch?v=qJa-VFwPpYA</td>\n",
       "      <td>Gorillaz - New Gold ft. Tame Impala &amp; Bootie B...</td>\n",
       "      <td>Gorillaz</td>\n",
       "      <td>8435055.0</td>\n",
       "      <td>282142.0</td>\n",
       "      <td>7399.0</td>\n",
       "      <td>Gorillaz - New Gold ft. Tame Impala &amp; Bootie B...</td>\n",
       "      <td>True</td>\n",
       "      <td>True</td>\n",
       "      <td>6.306347e+07</td>\n",
       "    </tr>\n",
       "    <tr>\n",
       "      <th>3</th>\n",
       "      <td>Gorillaz</td>\n",
       "      <td>https://open.spotify.com/artist/3AA28KZvwAUcZu...</td>\n",
       "      <td>On Melancholy Hill</td>\n",
       "      <td>Plastic Beach</td>\n",
       "      <td>album</td>\n",
       "      <td>spotify:track:0q6LuUqGLUiCPP1cbdwFs3</td>\n",
       "      <td>0.689</td>\n",
       "      <td>0.739</td>\n",
       "      <td>2.0</td>\n",
       "      <td>-5.810</td>\n",
       "      <td>...</td>\n",
       "      <td>https://www.youtube.com/watch?v=04mfKJWDSzI</td>\n",
       "      <td>Gorillaz - On Melancholy Hill (Official Video)</td>\n",
       "      <td>Gorillaz</td>\n",
       "      <td>211754952.0</td>\n",
       "      <td>1788577.0</td>\n",
       "      <td>55229.0</td>\n",
       "      <td>Follow Gorillaz online:\\nhttp://gorillaz.com \\...</td>\n",
       "      <td>True</td>\n",
       "      <td>True</td>\n",
       "      <td>4.346636e+08</td>\n",
       "    </tr>\n",
       "    <tr>\n",
       "      <th>4</th>\n",
       "      <td>Gorillaz</td>\n",
       "      <td>https://open.spotify.com/artist/3AA28KZvwAUcZu...</td>\n",
       "      <td>Clint Eastwood</td>\n",
       "      <td>Gorillaz</td>\n",
       "      <td>album</td>\n",
       "      <td>spotify:track:7yMiX7n9SBvadzox8T5jzT</td>\n",
       "      <td>0.663</td>\n",
       "      <td>0.694</td>\n",
       "      <td>10.0</td>\n",
       "      <td>-8.627</td>\n",
       "      <td>...</td>\n",
       "      <td>https://www.youtube.com/watch?v=1V_xRb0x9aw</td>\n",
       "      <td>Gorillaz - Clint Eastwood (Official Video)</td>\n",
       "      <td>Gorillaz</td>\n",
       "      <td>618480958.0</td>\n",
       "      <td>6197318.0</td>\n",
       "      <td>155930.0</td>\n",
       "      <td>The official music video for Gorillaz - Clint ...</td>\n",
       "      <td>True</td>\n",
       "      <td>True</td>\n",
       "      <td>6.172597e+08</td>\n",
       "    </tr>\n",
       "    <tr>\n",
       "      <th>...</th>\n",
       "      <td>...</td>\n",
       "      <td>...</td>\n",
       "      <td>...</td>\n",
       "      <td>...</td>\n",
       "      <td>...</td>\n",
       "      <td>...</td>\n",
       "      <td>...</td>\n",
       "      <td>...</td>\n",
       "      <td>...</td>\n",
       "      <td>...</td>\n",
       "      <td>...</td>\n",
       "      <td>...</td>\n",
       "      <td>...</td>\n",
       "      <td>...</td>\n",
       "      <td>...</td>\n",
       "      <td>...</td>\n",
       "      <td>...</td>\n",
       "      <td>...</td>\n",
       "      <td>...</td>\n",
       "      <td>...</td>\n",
       "      <td>...</td>\n",
       "    </tr>\n",
       "    <tr>\n",
       "      <th>20718</th>\n",
       "      <td>SICK LEGEND</td>\n",
       "      <td>https://open.spotify.com/artist/3EYY5FwDkHEYLw...</td>\n",
       "      <td>JUST DANCE HARDSTYLE</td>\n",
       "      <td>JUST DANCE HARDSTYLE</td>\n",
       "      <td>single</td>\n",
       "      <td>spotify:track:0RtcKQGyI4hr8FgFH1TuYG</td>\n",
       "      <td>0.582</td>\n",
       "      <td>0.926</td>\n",
       "      <td>5.0</td>\n",
       "      <td>-6.344</td>\n",
       "      <td>...</td>\n",
       "      <td>https://www.youtube.com/watch?v=5SHmKFKlNqI</td>\n",
       "      <td>JUST DANCE HARDSTYLE</td>\n",
       "      <td>SICK LEGEND - Topic</td>\n",
       "      <td>71678.0</td>\n",
       "      <td>1113.0</td>\n",
       "      <td>0.0</td>\n",
       "      <td>Provided to YouTube by Routenote\\n\\nJUST DANCE...</td>\n",
       "      <td>True</td>\n",
       "      <td>True</td>\n",
       "      <td>9.227144e+06</td>\n",
       "    </tr>\n",
       "    <tr>\n",
       "      <th>20719</th>\n",
       "      <td>SICK LEGEND</td>\n",
       "      <td>https://open.spotify.com/artist/3EYY5FwDkHEYLw...</td>\n",
       "      <td>SET FIRE TO THE RAIN HARDSTYLE</td>\n",
       "      <td>SET FIRE TO THE RAIN HARDSTYLE</td>\n",
       "      <td>single</td>\n",
       "      <td>spotify:track:3rHvPA8lUnPBkaLyPOc0VV</td>\n",
       "      <td>0.531</td>\n",
       "      <td>0.936</td>\n",
       "      <td>4.0</td>\n",
       "      <td>-1.786</td>\n",
       "      <td>...</td>\n",
       "      <td>https://www.youtube.com/watch?v=ocTH6KxllDQ</td>\n",
       "      <td>SET FIRE TO THE RAIN HARDSTYLE</td>\n",
       "      <td>SICK LEGEND - Topic</td>\n",
       "      <td>164741.0</td>\n",
       "      <td>2019.0</td>\n",
       "      <td>0.0</td>\n",
       "      <td>Provided to YouTube by Routenote\\n\\nSET FIRE T...</td>\n",
       "      <td>True</td>\n",
       "      <td>True</td>\n",
       "      <td>1.089818e+07</td>\n",
       "    </tr>\n",
       "    <tr>\n",
       "      <th>20720</th>\n",
       "      <td>SICK LEGEND</td>\n",
       "      <td>https://open.spotify.com/artist/3EYY5FwDkHEYLw...</td>\n",
       "      <td>OUTSIDE HARDSTYLE SPED UP</td>\n",
       "      <td>OUTSIDE HARDSTYLE SPED UP</td>\n",
       "      <td>single</td>\n",
       "      <td>spotify:track:4jk00YxPtPbhvHJE9N4ddv</td>\n",
       "      <td>0.443</td>\n",
       "      <td>0.830</td>\n",
       "      <td>4.0</td>\n",
       "      <td>-4.679</td>\n",
       "      <td>...</td>\n",
       "      <td>https://www.youtube.com/watch?v=5wFhE-HY0hg</td>\n",
       "      <td>OUTSIDE HARDSTYLE SPED UP</td>\n",
       "      <td>SICK LEGEND - Topic</td>\n",
       "      <td>35646.0</td>\n",
       "      <td>329.0</td>\n",
       "      <td>0.0</td>\n",
       "      <td>Provided to YouTube by Routenote\\n\\nOUTSIDE HA...</td>\n",
       "      <td>True</td>\n",
       "      <td>True</td>\n",
       "      <td>6.226110e+06</td>\n",
       "    </tr>\n",
       "    <tr>\n",
       "      <th>20721</th>\n",
       "      <td>SICK LEGEND</td>\n",
       "      <td>https://open.spotify.com/artist/3EYY5FwDkHEYLw...</td>\n",
       "      <td>ONLY GIRL HARDSTYLE</td>\n",
       "      <td>ONLY GIRL HARDSTYLE</td>\n",
       "      <td>single</td>\n",
       "      <td>spotify:track:5EyErbpsugWliX006eTDex</td>\n",
       "      <td>0.417</td>\n",
       "      <td>0.767</td>\n",
       "      <td>9.0</td>\n",
       "      <td>-4.004</td>\n",
       "      <td>...</td>\n",
       "      <td>https://www.youtube.com/watch?v=VMFLbFRNCn0</td>\n",
       "      <td>ONLY GIRL HARDSTYLE</td>\n",
       "      <td>SICK LEGEND - Topic</td>\n",
       "      <td>6533.0</td>\n",
       "      <td>88.0</td>\n",
       "      <td>0.0</td>\n",
       "      <td>Provided to YouTube by Routenote\\n\\nONLY GIRL ...</td>\n",
       "      <td>True</td>\n",
       "      <td>True</td>\n",
       "      <td>6.873961e+06</td>\n",
       "    </tr>\n",
       "    <tr>\n",
       "      <th>20722</th>\n",
       "      <td>SICK LEGEND</td>\n",
       "      <td>https://open.spotify.com/artist/3EYY5FwDkHEYLw...</td>\n",
       "      <td>MISS YOU HARDSTYLE</td>\n",
       "      <td>MISS YOU HARDSTYLE</td>\n",
       "      <td>single</td>\n",
       "      <td>spotify:track:6lOn0jz1QpjcWeXo1oMm0k</td>\n",
       "      <td>0.498</td>\n",
       "      <td>0.938</td>\n",
       "      <td>6.0</td>\n",
       "      <td>-4.543</td>\n",
       "      <td>...</td>\n",
       "      <td>https://www.youtube.com/watch?v=zau0dckCFi0</td>\n",
       "      <td>MISS YOU HARDSTYLE</td>\n",
       "      <td>SICK LEGEND - Topic</td>\n",
       "      <td>158697.0</td>\n",
       "      <td>2484.0</td>\n",
       "      <td>0.0</td>\n",
       "      <td>Provided to YouTube by Routenote\\n\\nMISS YOU H...</td>\n",
       "      <td>True</td>\n",
       "      <td>True</td>\n",
       "      <td>5.695584e+06</td>\n",
       "    </tr>\n",
       "  </tbody>\n",
       "</table>\n",
       "<p>20723 rows × 27 columns</p>\n",
       "</div>"
      ],
      "text/plain": [
       "            Artist                                        Url_spotify  \\\n",
       "0         Gorillaz  https://open.spotify.com/artist/3AA28KZvwAUcZu...   \n",
       "1         Gorillaz  https://open.spotify.com/artist/3AA28KZvwAUcZu...   \n",
       "2         Gorillaz  https://open.spotify.com/artist/3AA28KZvwAUcZu...   \n",
       "3         Gorillaz  https://open.spotify.com/artist/3AA28KZvwAUcZu...   \n",
       "4         Gorillaz  https://open.spotify.com/artist/3AA28KZvwAUcZu...   \n",
       "...            ...                                                ...   \n",
       "20718  SICK LEGEND  https://open.spotify.com/artist/3EYY5FwDkHEYLw...   \n",
       "20719  SICK LEGEND  https://open.spotify.com/artist/3EYY5FwDkHEYLw...   \n",
       "20720  SICK LEGEND  https://open.spotify.com/artist/3EYY5FwDkHEYLw...   \n",
       "20721  SICK LEGEND  https://open.spotify.com/artist/3EYY5FwDkHEYLw...   \n",
       "20722  SICK LEGEND  https://open.spotify.com/artist/3EYY5FwDkHEYLw...   \n",
       "\n",
       "                                               Track  \\\n",
       "0                                     Feel Good Inc.   \n",
       "1                                    Rhinestone Eyes   \n",
       "2      New Gold (feat. Tame Impala and Bootie Brown)   \n",
       "3                                 On Melancholy Hill   \n",
       "4                                     Clint Eastwood   \n",
       "...                                              ...   \n",
       "20718                           JUST DANCE HARDSTYLE   \n",
       "20719                 SET FIRE TO THE RAIN HARDSTYLE   \n",
       "20720                      OUTSIDE HARDSTYLE SPED UP   \n",
       "20721                            ONLY GIRL HARDSTYLE   \n",
       "20722                             MISS YOU HARDSTYLE   \n",
       "\n",
       "                                               Album Album_type  \\\n",
       "0                                         Demon Days      album   \n",
       "1                                      Plastic Beach      album   \n",
       "2      New Gold (feat. Tame Impala and Bootie Brown)     single   \n",
       "3                                      Plastic Beach      album   \n",
       "4                                           Gorillaz      album   \n",
       "...                                              ...        ...   \n",
       "20718                           JUST DANCE HARDSTYLE     single   \n",
       "20719                 SET FIRE TO THE RAIN HARDSTYLE     single   \n",
       "20720                      OUTSIDE HARDSTYLE SPED UP     single   \n",
       "20721                            ONLY GIRL HARDSTYLE     single   \n",
       "20722                             MISS YOU HARDSTYLE     single   \n",
       "\n",
       "                                        Uri  Danceability  Energy   Key  \\\n",
       "0      spotify:track:0d28khcov6AiegSCpG5TuT         0.818   0.705   6.0   \n",
       "1      spotify:track:1foMv2HQwfQ2vntFf9HFeG         0.676   0.703   8.0   \n",
       "2      spotify:track:64dLd6rVqDLtkXFYrEUHIU         0.695   0.923   1.0   \n",
       "3      spotify:track:0q6LuUqGLUiCPP1cbdwFs3         0.689   0.739   2.0   \n",
       "4      spotify:track:7yMiX7n9SBvadzox8T5jzT         0.663   0.694  10.0   \n",
       "...                                     ...           ...     ...   ...   \n",
       "20718  spotify:track:0RtcKQGyI4hr8FgFH1TuYG         0.582   0.926   5.0   \n",
       "20719  spotify:track:3rHvPA8lUnPBkaLyPOc0VV         0.531   0.936   4.0   \n",
       "20720  spotify:track:4jk00YxPtPbhvHJE9N4ddv         0.443   0.830   4.0   \n",
       "20721  spotify:track:5EyErbpsugWliX006eTDex         0.417   0.767   9.0   \n",
       "20722  spotify:track:6lOn0jz1QpjcWeXo1oMm0k         0.498   0.938   6.0   \n",
       "\n",
       "       Loudness  ...                                  Url_youtube  \\\n",
       "0        -6.679  ...  https://www.youtube.com/watch?v=HyHNuVaZJ-k   \n",
       "1        -5.815  ...  https://www.youtube.com/watch?v=yYDmaexVHic   \n",
       "2        -3.930  ...  https://www.youtube.com/watch?v=qJa-VFwPpYA   \n",
       "3        -5.810  ...  https://www.youtube.com/watch?v=04mfKJWDSzI   \n",
       "4        -8.627  ...  https://www.youtube.com/watch?v=1V_xRb0x9aw   \n",
       "...         ...  ...                                          ...   \n",
       "20718    -6.344  ...  https://www.youtube.com/watch?v=5SHmKFKlNqI   \n",
       "20719    -1.786  ...  https://www.youtube.com/watch?v=ocTH6KxllDQ   \n",
       "20720    -4.679  ...  https://www.youtube.com/watch?v=5wFhE-HY0hg   \n",
       "20721    -4.004  ...  https://www.youtube.com/watch?v=VMFLbFRNCn0   \n",
       "20722    -4.543  ...  https://www.youtube.com/watch?v=zau0dckCFi0   \n",
       "\n",
       "                                                   Title              Channel  \\\n",
       "0             Gorillaz - Feel Good Inc. (Official Video)             Gorillaz   \n",
       "1      Gorillaz - Rhinestone Eyes [Storyboard Film] (...             Gorillaz   \n",
       "2      Gorillaz - New Gold ft. Tame Impala & Bootie B...             Gorillaz   \n",
       "3         Gorillaz - On Melancholy Hill (Official Video)             Gorillaz   \n",
       "4             Gorillaz - Clint Eastwood (Official Video)             Gorillaz   \n",
       "...                                                  ...                  ...   \n",
       "20718                               JUST DANCE HARDSTYLE  SICK LEGEND - Topic   \n",
       "20719                     SET FIRE TO THE RAIN HARDSTYLE  SICK LEGEND - Topic   \n",
       "20720                          OUTSIDE HARDSTYLE SPED UP  SICK LEGEND - Topic   \n",
       "20721                                ONLY GIRL HARDSTYLE  SICK LEGEND - Topic   \n",
       "20722                                 MISS YOU HARDSTYLE  SICK LEGEND - Topic   \n",
       "\n",
       "             Views      Likes  Comments  \\\n",
       "0      693555221.0  6220896.0  169907.0   \n",
       "1       72011645.0  1079128.0   31003.0   \n",
       "2        8435055.0   282142.0    7399.0   \n",
       "3      211754952.0  1788577.0   55229.0   \n",
       "4      618480958.0  6197318.0  155930.0   \n",
       "...            ...        ...       ...   \n",
       "20718      71678.0     1113.0       0.0   \n",
       "20719     164741.0     2019.0       0.0   \n",
       "20720      35646.0      329.0       0.0   \n",
       "20721       6533.0       88.0       0.0   \n",
       "20722     158697.0     2484.0       0.0   \n",
       "\n",
       "                                             Description Licensed  \\\n",
       "0      Official HD Video for Gorillaz' fantastic trac...     True   \n",
       "1      The official video for Gorillaz - Rhinestone E...     True   \n",
       "2      Gorillaz - New Gold ft. Tame Impala & Bootie B...     True   \n",
       "3      Follow Gorillaz online:\\nhttp://gorillaz.com \\...     True   \n",
       "4      The official music video for Gorillaz - Clint ...     True   \n",
       "...                                                  ...      ...   \n",
       "20718  Provided to YouTube by Routenote\\n\\nJUST DANCE...     True   \n",
       "20719  Provided to YouTube by Routenote\\n\\nSET FIRE T...     True   \n",
       "20720  Provided to YouTube by Routenote\\n\\nOUTSIDE HA...     True   \n",
       "20721  Provided to YouTube by Routenote\\n\\nONLY GIRL ...     True   \n",
       "20722  Provided to YouTube by Routenote\\n\\nMISS YOU H...     True   \n",
       "\n",
       "      official_video        Stream  \n",
       "0               True  1.040235e+09  \n",
       "1               True  3.100837e+08  \n",
       "2               True  6.306347e+07  \n",
       "3               True  4.346636e+08  \n",
       "4               True  6.172597e+08  \n",
       "...              ...           ...  \n",
       "20718           True  9.227144e+06  \n",
       "20719           True  1.089818e+07  \n",
       "20720           True  6.226110e+06  \n",
       "20721           True  6.873961e+06  \n",
       "20722           True  5.695584e+06  \n",
       "\n",
       "[20723 rows x 27 columns]"
      ]
     },
     "execution_count": 2,
     "metadata": {},
     "output_type": "execute_result"
    }
   ],
   "source": [
    "df= pd.read_csv('C:\\\\Users\\\\Ibrahim\\\\Desktop\\\\Spotify_Youtube\\\\Spotify_Youtuben.csv')\n",
    "df"
   ]
  },
  {
   "cell_type": "code",
   "execution_count": 3,
   "id": "bd55e39d",
   "metadata": {},
   "outputs": [
    {
     "name": "stdout",
     "output_type": "stream",
     "text": [
      "<class 'pandas.core.frame.DataFrame'>\n",
      "RangeIndex: 20723 entries, 0 to 20722\n",
      "Data columns (total 27 columns):\n",
      " #   Column            Non-Null Count  Dtype  \n",
      "---  ------            --------------  -----  \n",
      " 0   Artist            20723 non-null  object \n",
      " 1   Url_spotify       20723 non-null  object \n",
      " 2   Track             20723 non-null  object \n",
      " 3   Album             20723 non-null  object \n",
      " 4   Album_type        20723 non-null  object \n",
      " 5   Uri               20723 non-null  object \n",
      " 6   Danceability      20721 non-null  float64\n",
      " 7   Energy            20721 non-null  float64\n",
      " 8   Key               20721 non-null  float64\n",
      " 9   Loudness          20721 non-null  float64\n",
      " 10  Speechiness       20721 non-null  float64\n",
      " 11  Acousticness      20721 non-null  float64\n",
      " 12  Instrumentalness  20721 non-null  float64\n",
      " 13  Liveness          20721 non-null  float64\n",
      " 14  Valence           20721 non-null  float64\n",
      " 15  Tempo             20721 non-null  float64\n",
      " 16  Duration_ms       20721 non-null  float64\n",
      " 17  Url_youtube       20253 non-null  object \n",
      " 18  Title             20253 non-null  object \n",
      " 19  Channel           20253 non-null  object \n",
      " 20  Views             20253 non-null  float64\n",
      " 21  Likes             20182 non-null  float64\n",
      " 22  Comments          20154 non-null  float64\n",
      " 23  Description       19847 non-null  object \n",
      " 24  Licensed          20253 non-null  object \n",
      " 25  official_video    20253 non-null  object \n",
      " 26  Stream            20146 non-null  float64\n",
      "dtypes: float64(15), object(12)\n",
      "memory usage: 4.3+ MB\n"
     ]
    }
   ],
   "source": [
    "#checking details of data\n",
    "\n",
    "df.info()"
   ]
  },
  {
   "cell_type": "markdown",
   "id": "10e29807",
   "metadata": {},
   "source": [
    "●Task 1: Columns removal"
   ]
  },
  {
   "cell_type": "code",
   "execution_count": 4,
   "id": "d76f3087",
   "metadata": {},
   "outputs": [],
   "source": [
    "df.drop(columns=['Url_spotify','Uri','Key','Url_youtube','Description'],inplace=True)\n"
   ]
  },
  {
   "cell_type": "code",
   "execution_count": 5,
   "id": "b33442c4",
   "metadata": {},
   "outputs": [
    {
     "data": {
      "text/plain": [
       "Index(['Artist', 'Track', 'Album', 'Album_type', 'Danceability', 'Energy',\n",
       "       'Loudness', 'Speechiness', 'Acousticness', 'Instrumentalness',\n",
       "       'Liveness', 'Valence', 'Tempo', 'Duration_ms', 'Title', 'Channel',\n",
       "       'Views', 'Likes', 'Comments', 'Licensed', 'official_video', 'Stream'],\n",
       "      dtype='object')"
      ]
     },
     "execution_count": 5,
     "metadata": {},
     "output_type": "execute_result"
    }
   ],
   "source": [
    "df.columns"
   ]
  },
  {
   "cell_type": "markdown",
   "id": "4853ff33",
   "metadata": {},
   "source": [
    "●Task 2: Null Value Analysis:\n",
    "        Examine the dataset for the presence of null values and calculate the total count of null values for each column"
   ]
  },
  {
   "cell_type": "code",
   "execution_count": 6,
   "id": "677226d8",
   "metadata": {},
   "outputs": [
    {
     "data": {
      "text/plain": [
       "Artist                0\n",
       "Track                 0\n",
       "Album                 0\n",
       "Album_type            0\n",
       "Danceability          2\n",
       "Energy                2\n",
       "Loudness              2\n",
       "Speechiness           2\n",
       "Acousticness          2\n",
       "Instrumentalness      2\n",
       "Liveness              2\n",
       "Valence               2\n",
       "Tempo                 2\n",
       "Duration_ms           2\n",
       "Title               470\n",
       "Channel             470\n",
       "Views               470\n",
       "Likes               541\n",
       "Comments            569\n",
       "Licensed            470\n",
       "official_video      470\n",
       "Stream              577\n",
       "dtype: int64"
      ]
     },
     "execution_count": 6,
     "metadata": {},
     "output_type": "execute_result"
    }
   ],
   "source": [
    "df.isnull().sum()"
   ]
  },
  {
   "cell_type": "markdown",
   "id": "d561990a",
   "metadata": {},
   "source": [
    "● Task 3: Handling Null Value for Better Analysis"
   ]
  },
  {
   "cell_type": "code",
   "execution_count": 7,
   "id": "742b1638",
   "metadata": {},
   "outputs": [],
   "source": [
    "df.fillna({'Artist':'NA','Track':'NA','Album':'NA','Album_type':'NA',\n",
    "           'Danceability':0,'Energy':0,'Loudness':0,'Speechiness':0,\n",
    "           'Acousticness':0,'Instrumentalness':0,'Liveness':0,\n",
    "            'Valence':0,'Tempo':0,'Duration_ms':0,'Title':'NA',\n",
    "           'Channel':'NA','Views':0,'Likes':0,'Comments':0,\n",
    "           'Licensed':'NA','official_video':'NA','Stream':0},inplace=True)"
   ]
  },
  {
   "cell_type": "code",
   "execution_count": null,
   "id": "445c32d5",
   "metadata": {},
   "outputs": [],
   "source": [
    "#Another code to solve this problem\n",
    "'''def handle_null_values():\n",
    "    df['Artist'].fillna('NA',inplace=True)\n",
    "    df['Track'].fillna('NA',inplace=True)\n",
    "    df['Album'].fillna('NA',inplace=True)\n",
    "    df['Album_type'].fillna('NA',inplace=True)\n",
    "    df['Danceability'].fillna(0,inplace=True)\n",
    "    df['Energy'].fillna(0,inplace=True)\n",
    "    df['Loudness'].fillna(0,inplace=True)\n",
    "    df['Speechiness'].fillna(0,inplace=True)\n",
    "    df['Acousticness'].fillna(0,inplace=True)\n",
    "    df['Instrumentalness'].fillna(0,inplace=True)\n",
    "    df['Liveness'].fillna(0,inplace=True)\n",
    "    df['Valence'].fillna(0,inplace=True)\n",
    "    df['Tempo'].fillna(0,inplace=True)\n",
    "    df['Duration_ms'].fillna(0,inplace=True)\n",
    "    df['Title'].fillna('NA',inplace=True)\n",
    "    df['Channel'].fillna('NA',inplace=True)\n",
    "    df['Views'].fillna(0,inplace=True)\n",
    "    df['Likes'].fillna(0,inplace=True)\n",
    "    df['Comments'].fillna(0,inplace=True)\n",
    "    df['official_video'].fillna('NA',inplace=True)\n",
    "    df['Stream'].fillna(0,inplace=True)\n",
    "    df['Licensed'].fillna('NA',inplace=True)\n",
    "\n",
    "    return df\n",
    "            '''"
   ]
  },
  {
   "cell_type": "code",
   "execution_count": 8,
   "id": "bed5c22e",
   "metadata": {},
   "outputs": [
    {
     "data": {
      "text/plain": [
       "Artist              0\n",
       "Track               0\n",
       "Album               0\n",
       "Album_type          0\n",
       "Danceability        0\n",
       "Energy              0\n",
       "Loudness            0\n",
       "Speechiness         0\n",
       "Acousticness        0\n",
       "Instrumentalness    0\n",
       "Liveness            0\n",
       "Valence             0\n",
       "Tempo               0\n",
       "Duration_ms         0\n",
       "Title               0\n",
       "Channel             0\n",
       "Views               0\n",
       "Likes               0\n",
       "Comments            0\n",
       "Licensed            0\n",
       "official_video      0\n",
       "Stream              0\n",
       "dtype: int64"
      ]
     },
     "execution_count": 8,
     "metadata": {},
     "output_type": "execute_result"
    }
   ],
   "source": [
    "#checking if there is any null valu\n",
    "\n",
    "df.isnull().sum()"
   ]
  },
  {
   "cell_type": "markdown",
   "id": "eb7a8d77",
   "metadata": {},
   "source": [
    "● Task 4: \n",
    "Duplicate checking, identify and eliminate duplicate records in the dataset while retaining the first occurrence of each unique value.\n",
    "This ensures data integrity by removing redundant information and maintaining the original data structure."
   ]
  },
  {
   "cell_type": "code",
   "execution_count": 9,
   "id": "79a80299",
   "metadata": {},
   "outputs": [],
   "source": [
    "df= df.drop_duplicates()\n"
   ]
  },
  {
   "cell_type": "code",
   "execution_count": 10,
   "id": "d6ac73c0",
   "metadata": {},
   "outputs": [
    {
     "name": "stdout",
     "output_type": "stream",
     "text": [
      "After removeing redundant data there are total (20718, 22) original data\n"
     ]
    }
   ],
   "source": [
    "print('After removeing redundant data there are total',df.shape,'original data')"
   ]
  },
  {
   "cell_type": "markdown",
   "id": "db96673d",
   "metadata": {},
   "source": [
    "● Task 5: Convert millisecond duration to minute for a better understanding."
   ]
  },
  {
   "cell_type": "code",
   "execution_count": 11,
   "id": "4cb8ff5d",
   "metadata": {},
   "outputs": [
    {
     "name": "stderr",
     "output_type": "stream",
     "text": [
      "C:\\Users\\Ibrahim\\AppData\\Local\\Temp\\ipykernel_7028\\1422459272.py:1: SettingWithCopyWarning: \n",
      "A value is trying to be set on a copy of a slice from a DataFrame.\n",
      "Try using .loc[row_indexer,col_indexer] = value instead\n",
      "\n",
      "See the caveats in the documentation: https://pandas.pydata.org/pandas-docs/stable/user_guide/indexing.html#returning-a-view-versus-a-copy\n",
      "  df['Duration_ms'] = df['Duration_ms']/60000\n"
     ]
    }
   ],
   "source": [
    "df['Duration_ms'] = df['Duration_ms']/60000\n"
   ]
  },
  {
   "cell_type": "markdown",
   "id": "d9ff286c",
   "metadata": {},
   "source": [
    "●Task 6: Column Renaming"
   ]
  },
  {
   "cell_type": "code",
   "execution_count": 12,
   "id": "dd881b09",
   "metadata": {},
   "outputs": [
    {
     "name": "stderr",
     "output_type": "stream",
     "text": [
      "C:\\Users\\Ibrahim\\AppData\\Local\\Temp\\ipykernel_7028\\156948997.py:1: SettingWithCopyWarning: \n",
      "A value is trying to be set on a copy of a slice from a DataFrame\n",
      "\n",
      "See the caveats in the documentation: https://pandas.pydata.org/pandas-docs/stable/user_guide/indexing.html#returning-a-view-versus-a-copy\n",
      "  df.rename(columns={'Duration_ms':'Duration_min'},inplace=True)\n"
     ]
    }
   ],
   "source": [
    "df.rename(columns={'Duration_ms':'Duration_min'},inplace=True)\n"
   ]
  },
  {
   "cell_type": "markdown",
   "id": "f79ed02f",
   "metadata": {},
   "source": [
    "● Task 7: Exclusion of Irrelevent Tracks: Remove irrelevant 'Track' name that starts with ?"
   ]
  },
  {
   "cell_type": "code",
   "execution_count": 14,
   "id": "65f7008d",
   "metadata": {},
   "outputs": [],
   "source": [
    "df = df[~df['Track'].str.startswith(\"?\")]"
   ]
  },
  {
   "cell_type": "markdown",
   "id": "0ca00ece",
   "metadata": {},
   "source": [
    "● Task 8: Compute the Energy to Liveness ratio for each track, quantifying the relationship between energy and liveliness attributes. The resulting ratios are then stored in a column named 'EnergyLiveness' for further analysis or interpretation.\n"
   ]
  },
  {
   "cell_type": "code",
   "execution_count": 16,
   "id": "31e5a1df",
   "metadata": {},
   "outputs": [],
   "source": [
    "df['EnergyLiveness']= df['Energy'] / df['Liveness']\n",
    "\n"
   ]
  },
  {
   "cell_type": "markdown",
   "id": "a806daba",
   "metadata": {},
   "source": [
    "● Task 9: Change the datatype of 'views' to float for further use"
   ]
  },
  {
   "cell_type": "code",
   "execution_count": 17,
   "id": "9f0d0109",
   "metadata": {},
   "outputs": [],
   "source": [
    "df['Views']=df['Views'].astype(float)\n"
   ]
  },
  {
   "cell_type": "markdown",
   "id": "e52168f0",
   "metadata": {},
   "source": [
    "● Task 10:\n",
    " Create a column named most_playedon which will have two values.\n",
    " Spotify and Youtube,If a song track is most played on youtube then\n",
    "the most_played on column will have youtube as the value for that particular song"
   ]
  },
  {
   "cell_type": "code",
   "execution_count": 18,
   "id": "618d3b07",
   "metadata": {},
   "outputs": [],
   "source": [
    "df['most_playedon'] = df.apply(lambda row: 'Spotify' if row['Stream'] > row['Views'] else 'YouTube', axis=1)\n"
   ]
  },
  {
   "cell_type": "code",
   "execution_count": null,
   "id": "50ccb6e3",
   "metadata": {},
   "outputs": [],
   "source": [
    "\"\"\"\n",
    "#df['most_playedon'] = 'Unknown'\n",
    "\n",
    "# Iterate through each row\n",
    "for index, row in df.iterrows():\n",
    "    views = row['Views']\n",
    "    stream = row['Stream']\n",
    "    \n",
    "    # Compare the values in 'views' and 'stream' columns\n",
    "    if views > stream:\n",
    "        df.at[index, 'most_playedon'] = 'YouTube'\n",
    "    else:\n",
    "        df.at[index, 'most_playedon'] = 'Spotify'\n",
    "    \n",
    "print(df)\n",
    "\n",
    "\n",
    "\"\"\""
   ]
  },
  {
   "cell_type": "markdown",
   "id": "328d64b9",
   "metadata": {},
   "source": [
    "● Task 11: Export the Data"
   ]
  },
  {
   "cell_type": "code",
   "execution_count": 19,
   "id": "874d30aa",
   "metadata": {},
   "outputs": [],
   "source": [
    "dataset = df.to_csv('cleaned_dataset.csv')\n"
   ]
  },
  {
   "cell_type": "markdown",
   "id": "683dab01",
   "metadata": {},
   "source": [
    "● Task 12: After Export the dataset we need connect with the database and then Use this final dataset and upload it on the provided database for performing analysis in  MySQL"
   ]
  },
  {
   "cell_type": "code",
   "execution_count": null,
   "id": "992d39dc",
   "metadata": {},
   "outputs": [],
   "source": []
  }
 ],
 "metadata": {
  "kernelspec": {
   "display_name": "Python 3 (ipykernel)",
   "language": "python",
   "name": "python3"
  },
  "language_info": {
   "codemirror_mode": {
    "name": "ipython",
    "version": 3
   },
   "file_extension": ".py",
   "mimetype": "text/x-python",
   "name": "python",
   "nbconvert_exporter": "python",
   "pygments_lexer": "ipython3",
   "version": "3.9.12"
  }
 },
 "nbformat": 4,
 "nbformat_minor": 5
}
